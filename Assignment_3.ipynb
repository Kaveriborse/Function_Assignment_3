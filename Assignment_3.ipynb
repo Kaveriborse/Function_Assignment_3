{
 "cells": [
  {
   "cell_type": "markdown",
   "id": "2986e425",
   "metadata": {},
   "source": [
    "# 1. Why are functions advantageous to have in your programs?"
   ]
  },
  {
   "cell_type": "markdown",
   "id": "214e7d6e",
   "metadata": {},
   "source": [
    "Modularity and Reusability: Functions allow us to break down our code into smaller, self-contained modules. These modules can be reused in different parts of program or in other programs altogether, saving from writing the same code multiple times.\n",
    "\n",
    "Abstraction: Functions provide a higher level of abstraction. We can encapsulate complex operations within a function and use a simple interface to interact with it. This makes code more readable and easier to understand.\n",
    "\n",
    "Readability and Maintainability: Well-structured functions improve the readability of code. When a function has a clear purpose and a descriptive name, it's easier for other developers to understand its functionality. This leads to better maintenance and easier debugging.\n",
    "\n",
    "Code Organization: Functions help organize code by grouping related tasks together. This makes it easier to manage larger programs and navigate through codebase.\n",
    "\n",
    "Encapsulation: Functions can hide the implementation details of a certain task, exposing only the necessary input/output or behavior. This improves security and reduces the risk of unintended side effects.\n",
    "\n",
    "Team Collaboration: When multiple developers are working on a project, well-designed functions with clear interfaces make collaboration smoother. Each developer can work on different functions independently.\n",
    "\n",
    "Testing: Functions are easier to test because they represent discrete units of functionality. We can create test cases for each function, ensuring that they work correctly in isolation before integrating them into the larger program.\n",
    "\n",
    "Performance Optimization: Functions allow us to focus on optimizing specific parts of code that require optimization, without affecting the entire program. This targeted optimization can lead to improved overall performance.\n",
    "\n",
    "It means functions promote code reusability, modularity, and maintainability, making your codebase more organized and easier to work with."
   ]
  },
  {
   "cell_type": "markdown",
   "id": "413ba01c",
   "metadata": {},
   "source": [
    "# 2. When does the code in a function run: when it's specified or when it's called?"
   ]
  },
  {
   "cell_type": "markdown",
   "id": "172e5fa3",
   "metadata": {},
   "source": [
    "The code within a function runs when the function is called, not when it's specified. In programming, functions are essentially blocks of code that are defined with a specific name, a set of input parameters (if any), and a block of code that defines their behavior. However, the code within a function doesn't execute until the function is invoked (called) in the program."
   ]
  },
  {
   "cell_type": "code",
   "execution_count": 1,
   "id": "3ff95033",
   "metadata": {},
   "outputs": [
    {
     "name": "stdout",
     "output_type": "stream",
     "text": [
      "Before function call.\n",
      "This is inside the function.\n",
      "After function call.\n"
     ]
    }
   ],
   "source": [
    "#ex.\n",
    "def my_function():\n",
    "    print(\"This is inside the function.\")\n",
    "    \n",
    "print(\"Before function call.\")\n",
    "my_function()     #function call\n",
    "print(\"After function call.\")"
   ]
  },
  {
   "cell_type": "markdown",
   "id": "7fad4a01",
   "metadata": {},
   "source": [
    "# 3. What statement creates a function?"
   ]
  },
  {
   "cell_type": "markdown",
   "id": "f1c71fe4",
   "metadata": {},
   "source": [
    "In Python programming language the \"def\" statement is used to create a function. This statement is used to define a new function, giving it a name, specifying its parameters (if any), and defining the block of code that constitutes the function's behavior.\n",
    "\n",
    "syntax:\n",
    "\n",
    "def function_name(parameters):\n",
    "\n",
    "example:"
   ]
  },
  {
   "cell_type": "code",
   "execution_count": 2,
   "id": "124a8bdd",
   "metadata": {},
   "outputs": [
    {
     "name": "stdout",
     "output_type": "stream",
     "text": [
      "Hello, Kaveri!\n"
     ]
    }
   ],
   "source": [
    "def greet(name):\n",
    "    print(\"Hello, \" + name + \"!\")\n",
    "    \n",
    "greet(\"Kaveri\")"
   ]
  },
  {
   "cell_type": "markdown",
   "id": "736faeca",
   "metadata": {},
   "source": [
    "# 4. What is the difference between a function and a function call?"
   ]
  },
  {
   "cell_type": "markdown",
   "id": "a06ee46f",
   "metadata": {},
   "source": [
    "A function and a function call are related concepts in programming, but they serve different purposes:\n",
    "\n",
    "Function:\n",
    "\n",
    "A function is a block of code that performs a specific task or a set of tasks.\n",
    "It is defined using a function declaration or definition, depending on the programming language.\n",
    "A function has a name, a set of parameters (optional), and a body of code that defines its behavior.\n",
    "Functions are like blueprints or templates for specific tasks. They encapsulate a sequence of instructions that can be executed when the function is called.\n",
    "\n",
    "Function Call:\n",
    "\n",
    "A function call (also known as invoking a function) is the action of executing the code inside a function.\n",
    "To use the functionality defined within a function, you call the function by its name, providing any necessary arguments (parameters).\n",
    "When a function is called, the program executes the code within the function's body, following the specified behavior.\n",
    "A function call can be thought of as a request to perform a specific action defined by the function.\n",
    "Here's a simple analogy:\n",
    "\n",
    "Think of a recipe for baking cookies. The recipe is like a function. It defines the steps you need to follow to make cookies. When you actually follow those steps and bake cookies, you are performing a function call.\n",
    "\n",
    "For example:\n",
    "\n",
    "Function definition\n",
    "\n",
    "def bake_cookies(recipe):\n",
    "\n",
    "     #Steps for baking cookies\n",
    "     #...\n",
    "    print(\"Cookies are ready!\")\n",
    "\n",
    "Function call\n",
    "\n",
    "bake_cookies(\"chocolate chip\")\n",
    "\n",
    "In this analogy, bake_cookies is the function, and bake_cookies(\"chocolate chip\") is the function call. The function defines how to bake cookies, and the function call actually bakes the cookies according to the defined steps.\n",
    "\n",
    "a function is a reusable set of instructions that defines a task, while a function call is the act of executing those instructions to perform the task."
   ]
  },
  {
   "cell_type": "markdown",
   "id": "9f466e79",
   "metadata": {},
   "source": [
    "# 5. How many global scopes are there in a Python program? How many local scopes?"
   ]
  },
  {
   "cell_type": "markdown",
   "id": "5cdaa9f3",
   "metadata": {},
   "source": [
    "In a Python program, there is only one global scope, but local scopes can vary depending on how functions and other code blocks are defined and executed.\n",
    "\n",
    "Global Scope:\n",
    "\n",
    "There is only one global scope in a Python program.\n",
    "The global scope encompasses the entire program and is where global variables are defined and accessible.\n",
    "Global variables can be accessed from any part of the program, both inside and outside functions.\n",
    "\n",
    "Local Scopes:\n",
    "\n",
    "Local scopes are created whenever a function or a code block is executed.\n",
    "Each function call creates its own local scope.\n",
    "Local variables are defined within a function's local scope and are only accessible within that function.\n",
    "After the function call completes, the local scope is destroyed, and the local variables are no longer accessible.\n",
    "Here's an example to illustrate the concept of global and local scopes:\n",
    "\n",
    "i.e each function call creates its own local scope, and variables defined within that scope are limited in visibility to that specific function call."
   ]
  },
  {
   "cell_type": "markdown",
   "id": "c9c936ed",
   "metadata": {},
   "source": [
    "# 6. What happens to variables in a local scope when the function call returns?"
   ]
  },
  {
   "cell_type": "markdown",
   "id": "85ff18a4",
   "metadata": {},
   "source": [
    "When a function call in Python returns (completes its execution), the local scope associated with that function is destroyed, and any variables defined within that local scope cease to exist. This process is known as variable scoping and involves the following steps:\n",
    "\n",
    "Variable Creation: When a function is called, its local scope is created. Any variables defined within the function's body are created within this local scope.\n",
    "\n",
    "Variable Usage: Variables defined in the local scope are accessible and can be used within the function's body.\n",
    "\n",
    "Function Execution: The function executes its code, performing the desired tasks using the local variables.\n",
    "\n",
    "Function Return: When the function completes its execution or reaches a return statement, the function returns the specified value (if any), and the local scope is destroyed.\n",
    "\n",
    "Variable Cleanup: As the local scope is destroyed, any variables defined within that scope are also destroyed and their memory is freed up.\n",
    "\n",
    " local variables are temporary and have a limited scope of visibility within the function where they are defined. They cannot be accessed outside the function or after the function call has returned.\n"
   ]
  },
  {
   "cell_type": "markdown",
   "id": "6b252acb",
   "metadata": {},
   "source": [
    "# 7. What is the concept of a return value? Is it possible to have a return value in an expression?"
   ]
  },
  {
   "cell_type": "markdown",
   "id": "296b7bc3",
   "metadata": {},
   "source": [
    "The concept of a return value pertains to functions in programming. A return value is the value that a function \"returns\" to the caller when the function completes its execution. It's a way for functions to communicate results or computed values back to the part of the program that called the function.\n",
    "\n",
    "In Python, functions can use the return statement to specify a value that will be sent back to the caller. The return value can be of any data type, such as numbers, strings, lists, or even more complex data structures.\n",
    "\n",
    "In below  example, the add_numbers function takes two parameters (a and b), calculates their sum, and then returns the result using the return statement. The value returned by the function is assigned to the variable sum_result, which is then printed.\n",
    "\n",
    "Return values are a powerful way to capture and use the results of function computations within your program. They enable you to create reusable functions that provide meaningful output to the rest of your code.\n",
    "\n",
    "Here's a simple example:"
   ]
  },
  {
   "cell_type": "code",
   "execution_count": 4,
   "id": "32df2dcc",
   "metadata": {},
   "outputs": [
    {
     "name": "stdout",
     "output_type": "stream",
     "text": [
      "Sum: 8\n"
     ]
    }
   ],
   "source": [
    "def add_numbers(a, b):\n",
    "    result = a + b\n",
    "    return result\n",
    "\n",
    "sum_result = add_numbers(3, 5)\n",
    "print(\"Sum:\", sum_result)"
   ]
  },
  {
   "cell_type": "markdown",
   "id": "be9bf526",
   "metadata": {},
   "source": [
    "# 8. If a function does not have a return statement, what is the return value of a call to that function?"
   ]
  },
  {
   "cell_type": "markdown",
   "id": "c5c5adb0",
   "metadata": {},
   "source": [
    "If a function does not have a return statement, the return value of a call to that function will be None. In Python, None is a special value that represents the absence of a value or a null value. When a function completes its execution without encountering a return statement, it implicitly returns None by default.\n",
    "\n",
    "It's important to note that even though a function without a return statement doesn't provide a specific value, it can still perform actions, modify variables, and have side effects in the program. However, in terms of return value, the absence of a return statement defaults to None."
   ]
  },
  {
   "cell_type": "markdown",
   "id": "1b301e4e",
   "metadata": {},
   "source": [
    "# 9. How do you make a function variable refer to the global variable?"
   ]
  },
  {
   "cell_type": "markdown",
   "id": "154126d5",
   "metadata": {},
   "source": [
    "In Python, if you want to refer to a global variable from within a function, you need to use the global keyword before the variable name within the function. This tells Python that you intend to modify the global variable rather than creating a new local variable with the same name.\n",
    "\n",
    "while we can modify global variables within a function using the global keyword, it's generally recommended to use function parameters and return values for better code organization and readability. Modifying global variables from within functions can sometimes make code harder to understand and maintain."
   ]
  },
  {
   "cell_type": "code",
   "execution_count": 5,
   "id": "868ee2a6",
   "metadata": {},
   "outputs": [
    {
     "name": "stdout",
     "output_type": "stream",
     "text": [
      "Before function call: 10\n",
      "After function call: 20\n"
     ]
    }
   ],
   "source": [
    "#Here's an example to demonstrate how to use the global keyword to refer to a global variable within a function:\n",
    "global_var = 10              # This is a global variable\n",
    "\n",
    "def modify_global():\n",
    "    global global_var        # Use the global keyword to refer to the global variable\n",
    "    global_var = 20          # Modify the global variable\n",
    "    \n",
    "print(\"Before function call:\", global_var)\n",
    "modify_global()              # Call the function that modifies the global variable\n",
    "print(\"After function call:\", global_var)"
   ]
  },
  {
   "cell_type": "markdown",
   "id": "fe6296af",
   "metadata": {},
   "source": [
    "# 10. What is the data type of None?"
   ]
  },
  {
   "cell_type": "markdown",
   "id": "7590243f",
   "metadata": {},
   "source": [
    "In Python, None is a special constant that represents the absence of a value or a null value. It is used to indicate that a variable does not have a meaningful value assigned to it. None is often used to initialize variables, indicate default values, or represent the result of a function call that doesn't explicitly return a value.\n",
    "\n",
    "None does not have a specific data type in the same way that other values do (like integers, strings, lists, etc.). It is its own unique type, often referred to as the \"NoneType.\"\n"
   ]
  },
  {
   "cell_type": "code",
   "execution_count": 6,
   "id": "c5523055",
   "metadata": {},
   "outputs": [
    {
     "name": "stdout",
     "output_type": "stream",
     "text": [
      "<class 'NoneType'>\n"
     ]
    }
   ],
   "source": [
    "value = None\n",
    "print(type(value))  # Output: <class 'NoneType'>"
   ]
  },
  {
   "cell_type": "markdown",
   "id": "a89fdd09",
   "metadata": {},
   "source": [
    "# 11. What does the sentence import areallyourpetsnamederic do?"
   ]
  },
  {
   "cell_type": "markdown",
   "id": "6a7e35f0",
   "metadata": {},
   "source": [
    "The sentence \"import areallyourpetsnamederic\" is a valid Python statement, but it doesn't have any built-in meaning or functionality in the Python programming language. It's not a standard library import, and there's no predefined module named \"areallyourpetsnamederic\" in Python.\n",
    "\n",
    "In Python, the import keyword is used to bring in external modules or packages into our code, which contain predefined functions, classes, and other code that we can use.\n",
    "\n",
    "However, the sentence \"import areallyourpetsnamederic\" doesn't refer to any existing module in the Python ecosystem. If we encounter this sentence in code, it might be a humorous or whimsical line written by a programmer, but from a technical standpoint, it doesn't have any practical effect."
   ]
  },
  {
   "cell_type": "markdown",
   "id": "8937ddcb",
   "metadata": {},
   "source": [
    "# 12. If you had a bacon() feature in a spam module, what would you call it after importing spam?"
   ]
  },
  {
   "cell_type": "markdown",
   "id": "f0ed3f3d",
   "metadata": {},
   "source": [
    "If we had a bacon() function in a module named spam, we would call it using the syntax spam.bacon() after importing the spam module. The dot (.) notation is used to access functions and variables defined within a module."
   ]
  },
  {
   "cell_type": "markdown",
   "id": "2dc464f6",
   "metadata": {},
   "source": [
    "# 13. What can you do to save a programme from crashing if it encounters an error?"
   ]
  },
  {
   "cell_type": "markdown",
   "id": "7440abc5",
   "metadata": {},
   "source": [
    "To prevent a program from crashing when it encounters an error, we can implement error handling mechanisms. In Python, this is typically done using the try and except statements, which allow us to catch and handle specific types of exceptions (errors) that might occur during the program's execution.\n",
    "\n",
    "Using error handling techniques like try and except ensures that our program can gracefully handle unexpected errors and continue running, rather than crashing abruptly. It's important to handle specific exceptions that we expect might occur in our code, rather than using broad exception handling that might hide bugs or issues in our program"
   ]
  },
  {
   "cell_type": "code",
   "execution_count": 7,
   "id": "58600c91",
   "metadata": {},
   "outputs": [
    {
     "name": "stdout",
     "output_type": "stream",
     "text": [
      "An error occurred: Division by zero.\n"
     ]
    }
   ],
   "source": [
    "try:\n",
    "    # Code that might raise an exception\n",
    "    result = 10 / 0  # This will raise a ZeroDivisionError\n",
    "except ZeroDivisionError:\n",
    "    print(\"An error occurred: Division by zero.\")"
   ]
  },
  {
   "cell_type": "markdown",
   "id": "2b718aac",
   "metadata": {},
   "source": [
    "# 14. What is the purpose of the try clause? What is the purpose of the except clause?"
   ]
  },
  {
   "cell_type": "markdown",
   "id": "734d3518",
   "metadata": {},
   "source": [
    "The try and except clauses are used together in error handling to manage exceptions (errors) that may occur during the execution of a program. They serve the following purposes:\n",
    "\n",
    "Purpose of the try Clause:\n",
    "\n",
    "The try clause is used to enclose a block of code that might raise exceptions.\n",
    "When the code within the try block encounters an exception, the program doesn't immediately terminate. Instead, the control flow transfers to the associated except block (if the exception type matches).\n",
    "The primary purpose of the try clause is to contain code that could potentially raise an exception, allowing the program to handle the exception gracefully without crashing.\n",
    "\n",
    "Purpose of the except Clause:\n",
    "\n",
    "The except clause follows the try block and specifies what should happen when a specific type of exception occurs.\n",
    "When an exception occurs within the try block, the program looks for an except block that matches the type of the exception.\n",
    "If a matching except block is found, the code within that block is executed, providing a way to handle the exception and prevent program crashes.\n",
    "The primary purpose of the except clause is to define how the program should respond when specific exceptions occur.\n",
    "\n",
    "Overall, the combination of the try and except clauses allows you to manage exceptions and handle errors in a controlled manner, improving the robustness and reliability of your program."
   ]
  },
  {
   "cell_type": "code",
   "execution_count": null,
   "id": "5a696bbb",
   "metadata": {},
   "outputs": [],
   "source": []
  }
 ],
 "metadata": {
  "kernelspec": {
   "display_name": "Python 3 (ipykernel)",
   "language": "python",
   "name": "python3"
  },
  "language_info": {
   "codemirror_mode": {
    "name": "ipython",
    "version": 3
   },
   "file_extension": ".py",
   "mimetype": "text/x-python",
   "name": "python",
   "nbconvert_exporter": "python",
   "pygments_lexer": "ipython3",
   "version": "3.9.7"
  }
 },
 "nbformat": 4,
 "nbformat_minor": 5
}
